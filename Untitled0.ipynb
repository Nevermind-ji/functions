{
  "nbformat": 4,
  "nbformat_minor": 0,
  "metadata": {
    "colab": {
      "provenance": []
    },
    "kernelspec": {
      "name": "python3",
      "display_name": "Python 3"
    },
    "language_info": {
      "name": "python"
    }
  },
  "cells": [
    {
      "cell_type": "code",
      "execution_count": null,
      "metadata": {
        "id": "I5O9Vv-Re7FO"
      },
      "outputs": [],
      "source": []
    },
    {
      "cell_type": "markdown",
      "source": [
        "1. In Python, a function is a standalone block of code defined using the def keyword that performs a specific task and can be called independently from anywhere in the program. In contrast, a method is a function that is associated with an object or a class, meaning it is defined within a class and is invoked on an instance of that class\n",
        "2. Parameters are the variables defined within the parentheses of a function's definition. They act as placeholders for the values that the function expects to receive when it is called. Parameters define the type and number of inputs a function can accept. Arguements are the actual values that are passed to a function when it is called. These values are assigned to the corresponding parameters within the function's scope, allowing the function to operate on specific data.\n",
        "3. In Python, functions are defined using the def keyword.To execute the code within a defined function, you call it by its name followed by parentheses.We can do so without parameters, with positional arguements, keyword arguements.\n",
        "4. The primary purpose of the return statement in a Python function is to send a value or set of values back to the point in the code where the function was called. This allows the result of the function's computation to be used for further processing, assignment to variables, or as part of other expressions.\n",
        "5. An iterable is an object that can be iterated over, meaning it can return its members one at a time. Examples of built-in iterables in Python include lists, tuples, strings, dictionaries, and sets. An object is considered iterable if it implements the __iter__() method, which returns an iterator, or the __getitem__() method, which allows access to elements by index (starting from 0).\n",
        "An iterator is an object that represents a stream of data. It is responsible for producing the next item in a sequence and maintaining the state of the iteration. An object is considered an iterator if it implements both the __iter__() method (which should return itself) and the __next__() method.\n",
        "6. Generators in Python are a special type of iterable that allow for the lazy evaluation of a sequence of values. Instead of computing and storing all values in memory at once, a generator produces values one at a time, on demand. This makes them highly memory-efficient, particularly when dealing with large datasets or infinite sequences.\n",
        "Generators are defined similarly to regular functions, but with a key distinction: they use the yield keyword instead of return to produce values. generator functions.\n",
        "7. Generators offer several advantages over regular functions, particularly when dealing with large datasets or sequences. Firstly, they provide memory efficiency as they generate values on demand using the yield keyword, rather than storing the entire sequence in memory like a regular function that returns a list. This makes them ideal for processing large files or infinite sequences without exhausting system resources. Secondly, generators enable lazy evaluation, meaning values are computed only when requested, which can lead to improved performance by reducing unnecessary computations, especially when only a portion of the sequence is needed. Thirdly, generators facilitate the creation of data pipelines, allowing multiple generator functions to be chained together to process data incrementally, leading to cleaner and more modular code for complex data transformations. Finally, they offer a natural and efficient way to represent and work with infinite sequences, which is impossible with regular functions that must return a complete, finite result.\n",
        "8.  lambda function in Python is a small, anonymous function defined using the lambda keyword. Unlike regular functions defined with def, lambda functions do not have a name and are limited to a single expression. This expression is evaluated and returned when the lambda function is invoked.\n",
        "9. The map() function in Python is a built-in higher-order function that applies a given function to each item of an iterable (like a list, tuple, set, etc.) and returns a map object (an iterator) containing the results. It provides a concise and efficient way to perform transformations on data within an iterable without explicitly writing a for loop.\n",
        "10. In Python, map(), filter(), and reduce() are higher-order functions used for processing iterables in a functional programming style, each serving a distinct purpose. map(function, iterable) applies a given function to every item in the iterable and returns a new iterable (a map object in Python 3) containing the results of each application, effectively transforming the elements. For instance, map(lambda x: x*2, [1, 2, 3]) would yield [2, 4, 6]. filter(function, iterable) constructs a new iterable (a filter object in Python 3) by testing each element in the iterable with the provided function, including only those elements for which the function returns True. An example is filter(lambda x: x % 2 == 0, [1, 2, 3, 4]), which would result in [2, 4]. Finally, reduce(function, iterable[, initial]), found in the functools module, applies a binary function cumulatively to the items of the iterable, reducing it to a single value. For example, reduce(lambda x, y: x + y, [1, 2, 3, 4]) would calculate ((1+2)+3)+4, yielding 10. In summary, map() transforms elements, filter() selects elements based on a condition, and reduce() aggregates elements into a single result.\n",
        "\n"
      ],
      "metadata": {
        "id": "FOH6RCUygfSH"
      }
    },
    {
      "cell_type": "code",
      "source": [
        "#1\n",
        "def sum_even_numbers(numbers):\n",
        "    return sum(num for num in numbers if num % 2 == 0)"
      ],
      "metadata": {
        "id": "6CAc2fSklVaB"
      },
      "execution_count": 1,
      "outputs": []
    },
    {
      "cell_type": "code",
      "source": [],
      "metadata": {
        "id": "KjQNQrDHboKE"
      },
      "execution_count": null,
      "outputs": []
    },
    {
      "cell_type": "code",
      "source": [
        "#2\n",
        "def reverse_string(s):\n",
        "    return s[::-1]"
      ],
      "metadata": {
        "id": "yNit4Iq7lYyW"
      },
      "execution_count": 2,
      "outputs": []
    },
    {
      "cell_type": "code",
      "source": [
        "#3\n",
        "def square_numbers(numbers):\n",
        "    return [num ** 2 for num in numbers]"
      ],
      "metadata": {
        "id": "EQxuN415lmqg"
      },
      "execution_count": 3,
      "outputs": []
    },
    {
      "cell_type": "code",
      "source": [
        "#4\n",
        "def is_prime(n):\n",
        "    if n < 2:\n",
        "        return False\n",
        "    for i in range(2, int(n**0.5) + 1):\n",
        "        if n % i == 0:\n",
        "            return False\n",
        "    return True\n",
        "\n",
        "def primes_upto_200():\n",
        "    return [n for n in range(1, 201) if is_prime(n)]"
      ],
      "metadata": {
        "id": "RZTZH2IqmQoI"
      },
      "execution_count": 4,
      "outputs": []
    },
    {
      "cell_type": "code",
      "source": [
        "#5\n",
        "fib=lambda n:n if n<=1 else fib(n-1)+fib(n-2)\n",
        "print(fib(10))"
      ],
      "metadata": {
        "colab": {
          "base_uri": "https://localhost:8080/"
        },
        "id": "s-xbaxbWbrYI",
        "outputId": "52d8fb73-cb70-4190-e808-be88f626e6f1"
      },
      "execution_count": 2,
      "outputs": [
        {
          "output_type": "stream",
          "name": "stdout",
          "text": [
            "55\n"
          ]
        }
      ]
    },
    {
      "cell_type": "code",
      "source": [
        "#6\n",
        "class FibonacciIterator:\n",
        "    def __init__(self, terms):\n",
        "        self.terms = terms\n",
        "        self.count = 0\n",
        "        self.a = 0\n",
        "        self.b = 1\n",
        "\n",
        "    def __iter__(self):\n",
        "        return self\n",
        "\n",
        "    def __next__(self):\n",
        "        if self.count >= self.terms:\n",
        "            raise StopIteration\n",
        "        if self.count == 0:\n",
        "            self.count += 1\n",
        "            return 0\n",
        "        elif self.count == 1:\n",
        "            self.count += 1\n",
        "            return 1\n",
        "        else:\n",
        "            self.a, self.b = self.b, self.a + self.b\n",
        "            self.count += 1\n",
        "            return self.b\n",
        "\n",
        "\n",
        "\n",
        "\n",
        "\n",
        "\n",
        "\n",
        "\n",
        "Ask ChatGPT\n"
      ],
      "metadata": {
        "id": "WTrGHRKmcD12"
      },
      "execution_count": null,
      "outputs": []
    },
    {
      "cell_type": "code",
      "source": [
        "#7\n",
        "def powers_of_two(n):\n",
        "    for i in range(n + 1):\n",
        "        yield 2 ** i"
      ],
      "metadata": {
        "id": "Y3E0agwWgflH"
      },
      "execution_count": 3,
      "outputs": []
    },
    {
      "cell_type": "code",
      "source": [
        "#8\n",
        "def read_lines(filename):\n",
        "    with open(filename, 'r') as file:\n",
        "        for line in file:\n",
        "            yield line"
      ],
      "metadata": {
        "id": "lf9Q6vDqheI1"
      },
      "execution_count": null,
      "outputs": []
    },
    {
      "cell_type": "code",
      "source": [
        "#9\n",
        "sorted_list = sorted([(1, 3), (4, 1), (2, 2)], key=lambda x: x[1])"
      ],
      "metadata": {
        "id": "wzQ0FebQh5KT"
      },
      "execution_count": null,
      "outputs": []
    },
    {
      "cell_type": "code",
      "source": [],
      "metadata": {
        "id": "iG3FMxJah70D"
      },
      "execution_count": null,
      "outputs": []
    }
  ]
}